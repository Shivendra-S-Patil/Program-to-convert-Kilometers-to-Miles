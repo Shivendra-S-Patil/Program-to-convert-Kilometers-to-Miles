{
 "cells": [
  {
   "cell_type": "code",
   "execution_count": 3,
   "id": "913c9348",
   "metadata": {},
   "outputs": [
    {
     "name": "stdout",
     "output_type": "stream",
     "text": [
      "Enter the value in kms: 5\n",
      "5.0 kms in miles will be 3.106855 miles\n"
     ]
    }
   ],
   "source": [
    "km = float(input(\"Enter the value in kms: \"))  #float(...) converts the user input (which is initially a string) into a floating-point number and assigns it to the variable km.\n",
    "\n",
    "miles = (0.621371)*km  #This line calculates the equivalent distance in miles based on the value entered in kilometers (km).\n",
    "\n",
    "print (km, \"kms in miles will be\", miles, \"miles\")  #This line prints the converted distance from kilometers to miles."
   ]
  },
  {
   "cell_type": "code",
   "execution_count": null,
   "id": "3b097597",
   "metadata": {},
   "outputs": [],
   "source": []
  }
 ],
 "metadata": {
  "kernelspec": {
   "display_name": "Python 3 (ipykernel)",
   "language": "python",
   "name": "python3"
  },
  "language_info": {
   "codemirror_mode": {
    "name": "ipython",
    "version": 3
   },
   "file_extension": ".py",
   "mimetype": "text/x-python",
   "name": "python",
   "nbconvert_exporter": "python",
   "pygments_lexer": "ipython3",
   "version": "3.9.13"
  }
 },
 "nbformat": 4,
 "nbformat_minor": 5
}
